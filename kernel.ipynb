{
  "nbformat": 4,
  "nbformat_minor": 0,
  "metadata": {
    "colab": {
      "name": "kernel.ipynb",
      "version": "0.3.2",
      "provenance": [],
      "include_colab_link": true
    },
    "kernelspec": {
      "name": "python3",
      "display_name": "Python 3"
    },
    "accelerator": "GPU"
  },
  "cells": [
    {
      "cell_type": "markdown",
      "metadata": {
        "id": "view-in-github",
        "colab_type": "text"
      },
      "source": [
        "<a href=\"https://colab.research.google.com/github/Mahanotrahul/DeepLearning/blob/master/kernel.ipynb\" target=\"_parent\"><img src=\"https://colab.research.google.com/assets/colab-badge.svg\" alt=\"Open In Colab\"/></a>"
      ]
    },
    {
      "metadata": {
        "_uuid": "6ab092a614aeaf674ef51af6c23badcfcadbac73",
        "id": "05fO6F58yAgG",
        "colab_type": "text"
      },
      "cell_type": "markdown",
      "source": [
        "This Notebook is a Sequence-to-Sequence Model for Text Summarization task using Attention Model"
      ]
    },
    {
      "metadata": {
        "_uuid": "850b9874d086f145a3d3dfeaeab4100e24bceb84",
        "id": "zkYr1RMGyAgI",
        "colab_type": "code",
        "colab": {
          "base_uri": "https://localhost:8080/",
          "height": 34
        },
        "outputId": "7b65fca9-27be-4772-925d-84aa4358d265"
      },
      "cell_type": "code",
      "source": [
        "import numpy as np\n",
        "from keras.models import Model\n",
        "from keras.layers import Dense, Input, Dropout, LSTM, Activation, Bidirectional, Concatenate, Permute, Dot, Multiply\n",
        "from keras.layers import RepeatVector, Lambda\n",
        "from keras.layers.embeddings import Embedding\n",
        "from keras.optimizers import Adam\n",
        "from keras.utils import to_categorical\n",
        "import matplotlib.pyplot as plt\n",
        "#from utils import *\n",
        "import pandas as pd\n",
        "from nltk.corpus import stopwords\n",
        "from pickle import dump, load\n",
        "import re"
      ],
      "execution_count": 1,
      "outputs": [
        {
          "output_type": "stream",
          "text": [
            "Using TensorFlow backend.\n"
          ],
          "name": "stderr"
        }
      ]
    },
    {
      "metadata": {
        "_uuid": "248397c756765fcdf11ee47cb9844adfc5edfb08",
        "id": "YIdhbijLyAgP",
        "colab_type": "code",
        "colab": {
          "base_uri": "https://localhost:8080/",
          "height": 846
        },
        "outputId": "bbfeae11-1f67-4c81-a9f3-2f256798d536"
      },
      "cell_type": "code",
      "source": [
        "reviews = pd.read_csv(\"../input/amazon-fine-food-reviews/Reviews.csv\")"
      ],
      "execution_count": 2,
      "outputs": [
        {
          "output_type": "error",
          "ename": "FileNotFoundError",
          "evalue": "ignored",
          "traceback": [
            "\u001b[0;31m---------------------------------------------------------------------------\u001b[0m",
            "\u001b[0;31mFileNotFoundError\u001b[0m                         Traceback (most recent call last)",
            "\u001b[0;32m<ipython-input-2-e004e7fc6119>\u001b[0m in \u001b[0;36m<module>\u001b[0;34m()\u001b[0m\n\u001b[0;32m----> 1\u001b[0;31m \u001b[0mreviews\u001b[0m \u001b[0;34m=\u001b[0m \u001b[0mpd\u001b[0m\u001b[0;34m.\u001b[0m\u001b[0mread_csv\u001b[0m\u001b[0;34m(\u001b[0m\u001b[0;34m\"../input/amazon-fine-food-reviews/Reviews.csv\"\u001b[0m\u001b[0;34m)\u001b[0m\u001b[0;34m\u001b[0m\u001b[0;34m\u001b[0m\u001b[0m\n\u001b[0m",
            "\u001b[0;32m/usr/local/lib/python3.6/dist-packages/pandas/io/parsers.py\u001b[0m in \u001b[0;36mparser_f\u001b[0;34m(filepath_or_buffer, sep, delimiter, header, names, index_col, usecols, squeeze, prefix, mangle_dupe_cols, dtype, engine, converters, true_values, false_values, skipinitialspace, skiprows, nrows, na_values, keep_default_na, na_filter, verbose, skip_blank_lines, parse_dates, infer_datetime_format, keep_date_col, date_parser, dayfirst, iterator, chunksize, compression, thousands, decimal, lineterminator, quotechar, quoting, escapechar, comment, encoding, dialect, tupleize_cols, error_bad_lines, warn_bad_lines, skipfooter, skip_footer, doublequote, delim_whitespace, as_recarray, compact_ints, use_unsigned, low_memory, buffer_lines, memory_map, float_precision)\u001b[0m\n\u001b[1;32m    707\u001b[0m                     skip_blank_lines=skip_blank_lines)\n\u001b[1;32m    708\u001b[0m \u001b[0;34m\u001b[0m\u001b[0m\n\u001b[0;32m--> 709\u001b[0;31m         \u001b[0;32mreturn\u001b[0m \u001b[0m_read\u001b[0m\u001b[0;34m(\u001b[0m\u001b[0mfilepath_or_buffer\u001b[0m\u001b[0;34m,\u001b[0m \u001b[0mkwds\u001b[0m\u001b[0;34m)\u001b[0m\u001b[0;34m\u001b[0m\u001b[0;34m\u001b[0m\u001b[0m\n\u001b[0m\u001b[1;32m    710\u001b[0m \u001b[0;34m\u001b[0m\u001b[0m\n\u001b[1;32m    711\u001b[0m     \u001b[0mparser_f\u001b[0m\u001b[0;34m.\u001b[0m\u001b[0m__name__\u001b[0m \u001b[0;34m=\u001b[0m \u001b[0mname\u001b[0m\u001b[0;34m\u001b[0m\u001b[0;34m\u001b[0m\u001b[0m\n",
            "\u001b[0;32m/usr/local/lib/python3.6/dist-packages/pandas/io/parsers.py\u001b[0m in \u001b[0;36m_read\u001b[0;34m(filepath_or_buffer, kwds)\u001b[0m\n\u001b[1;32m    447\u001b[0m \u001b[0;34m\u001b[0m\u001b[0m\n\u001b[1;32m    448\u001b[0m     \u001b[0;31m# Create the parser.\u001b[0m\u001b[0;34m\u001b[0m\u001b[0;34m\u001b[0m\u001b[0;34m\u001b[0m\u001b[0m\n\u001b[0;32m--> 449\u001b[0;31m     \u001b[0mparser\u001b[0m \u001b[0;34m=\u001b[0m \u001b[0mTextFileReader\u001b[0m\u001b[0;34m(\u001b[0m\u001b[0mfilepath_or_buffer\u001b[0m\u001b[0;34m,\u001b[0m \u001b[0;34m**\u001b[0m\u001b[0mkwds\u001b[0m\u001b[0;34m)\u001b[0m\u001b[0;34m\u001b[0m\u001b[0;34m\u001b[0m\u001b[0m\n\u001b[0m\u001b[1;32m    450\u001b[0m \u001b[0;34m\u001b[0m\u001b[0m\n\u001b[1;32m    451\u001b[0m     \u001b[0;32mif\u001b[0m \u001b[0mchunksize\u001b[0m \u001b[0;32mor\u001b[0m \u001b[0miterator\u001b[0m\u001b[0;34m:\u001b[0m\u001b[0;34m\u001b[0m\u001b[0;34m\u001b[0m\u001b[0m\n",
            "\u001b[0;32m/usr/local/lib/python3.6/dist-packages/pandas/io/parsers.py\u001b[0m in \u001b[0;36m__init__\u001b[0;34m(self, f, engine, **kwds)\u001b[0m\n\u001b[1;32m    816\u001b[0m             \u001b[0mself\u001b[0m\u001b[0;34m.\u001b[0m\u001b[0moptions\u001b[0m\u001b[0;34m[\u001b[0m\u001b[0;34m'has_index_names'\u001b[0m\u001b[0;34m]\u001b[0m \u001b[0;34m=\u001b[0m \u001b[0mkwds\u001b[0m\u001b[0;34m[\u001b[0m\u001b[0;34m'has_index_names'\u001b[0m\u001b[0;34m]\u001b[0m\u001b[0;34m\u001b[0m\u001b[0;34m\u001b[0m\u001b[0m\n\u001b[1;32m    817\u001b[0m \u001b[0;34m\u001b[0m\u001b[0m\n\u001b[0;32m--> 818\u001b[0;31m         \u001b[0mself\u001b[0m\u001b[0;34m.\u001b[0m\u001b[0m_make_engine\u001b[0m\u001b[0;34m(\u001b[0m\u001b[0mself\u001b[0m\u001b[0;34m.\u001b[0m\u001b[0mengine\u001b[0m\u001b[0;34m)\u001b[0m\u001b[0;34m\u001b[0m\u001b[0;34m\u001b[0m\u001b[0m\n\u001b[0m\u001b[1;32m    819\u001b[0m \u001b[0;34m\u001b[0m\u001b[0m\n\u001b[1;32m    820\u001b[0m     \u001b[0;32mdef\u001b[0m \u001b[0mclose\u001b[0m\u001b[0;34m(\u001b[0m\u001b[0mself\u001b[0m\u001b[0;34m)\u001b[0m\u001b[0;34m:\u001b[0m\u001b[0;34m\u001b[0m\u001b[0;34m\u001b[0m\u001b[0m\n",
            "\u001b[0;32m/usr/local/lib/python3.6/dist-packages/pandas/io/parsers.py\u001b[0m in \u001b[0;36m_make_engine\u001b[0;34m(self, engine)\u001b[0m\n\u001b[1;32m   1047\u001b[0m     \u001b[0;32mdef\u001b[0m \u001b[0m_make_engine\u001b[0m\u001b[0;34m(\u001b[0m\u001b[0mself\u001b[0m\u001b[0;34m,\u001b[0m \u001b[0mengine\u001b[0m\u001b[0;34m=\u001b[0m\u001b[0;34m'c'\u001b[0m\u001b[0;34m)\u001b[0m\u001b[0;34m:\u001b[0m\u001b[0;34m\u001b[0m\u001b[0;34m\u001b[0m\u001b[0m\n\u001b[1;32m   1048\u001b[0m         \u001b[0;32mif\u001b[0m \u001b[0mengine\u001b[0m \u001b[0;34m==\u001b[0m \u001b[0;34m'c'\u001b[0m\u001b[0;34m:\u001b[0m\u001b[0;34m\u001b[0m\u001b[0;34m\u001b[0m\u001b[0m\n\u001b[0;32m-> 1049\u001b[0;31m             \u001b[0mself\u001b[0m\u001b[0;34m.\u001b[0m\u001b[0m_engine\u001b[0m \u001b[0;34m=\u001b[0m \u001b[0mCParserWrapper\u001b[0m\u001b[0;34m(\u001b[0m\u001b[0mself\u001b[0m\u001b[0;34m.\u001b[0m\u001b[0mf\u001b[0m\u001b[0;34m,\u001b[0m \u001b[0;34m**\u001b[0m\u001b[0mself\u001b[0m\u001b[0;34m.\u001b[0m\u001b[0moptions\u001b[0m\u001b[0;34m)\u001b[0m\u001b[0;34m\u001b[0m\u001b[0;34m\u001b[0m\u001b[0m\n\u001b[0m\u001b[1;32m   1050\u001b[0m         \u001b[0;32melse\u001b[0m\u001b[0;34m:\u001b[0m\u001b[0;34m\u001b[0m\u001b[0;34m\u001b[0m\u001b[0m\n\u001b[1;32m   1051\u001b[0m             \u001b[0;32mif\u001b[0m \u001b[0mengine\u001b[0m \u001b[0;34m==\u001b[0m \u001b[0;34m'python'\u001b[0m\u001b[0;34m:\u001b[0m\u001b[0;34m\u001b[0m\u001b[0;34m\u001b[0m\u001b[0m\n",
            "\u001b[0;32m/usr/local/lib/python3.6/dist-packages/pandas/io/parsers.py\u001b[0m in \u001b[0;36m__init__\u001b[0;34m(self, src, **kwds)\u001b[0m\n\u001b[1;32m   1693\u001b[0m         \u001b[0mkwds\u001b[0m\u001b[0;34m[\u001b[0m\u001b[0;34m'allow_leading_cols'\u001b[0m\u001b[0;34m]\u001b[0m \u001b[0;34m=\u001b[0m \u001b[0mself\u001b[0m\u001b[0;34m.\u001b[0m\u001b[0mindex_col\u001b[0m \u001b[0;32mis\u001b[0m \u001b[0;32mnot\u001b[0m \u001b[0;32mFalse\u001b[0m\u001b[0;34m\u001b[0m\u001b[0;34m\u001b[0m\u001b[0m\n\u001b[1;32m   1694\u001b[0m \u001b[0;34m\u001b[0m\u001b[0m\n\u001b[0;32m-> 1695\u001b[0;31m         \u001b[0mself\u001b[0m\u001b[0;34m.\u001b[0m\u001b[0m_reader\u001b[0m \u001b[0;34m=\u001b[0m \u001b[0mparsers\u001b[0m\u001b[0;34m.\u001b[0m\u001b[0mTextReader\u001b[0m\u001b[0;34m(\u001b[0m\u001b[0msrc\u001b[0m\u001b[0;34m,\u001b[0m \u001b[0;34m**\u001b[0m\u001b[0mkwds\u001b[0m\u001b[0;34m)\u001b[0m\u001b[0;34m\u001b[0m\u001b[0;34m\u001b[0m\u001b[0m\n\u001b[0m\u001b[1;32m   1696\u001b[0m \u001b[0;34m\u001b[0m\u001b[0m\n\u001b[1;32m   1697\u001b[0m         \u001b[0;31m# XXX\u001b[0m\u001b[0;34m\u001b[0m\u001b[0;34m\u001b[0m\u001b[0;34m\u001b[0m\u001b[0m\n",
            "\u001b[0;32mpandas/_libs/parsers.pyx\u001b[0m in \u001b[0;36mpandas._libs.parsers.TextReader.__cinit__\u001b[0;34m()\u001b[0m\n",
            "\u001b[0;32mpandas/_libs/parsers.pyx\u001b[0m in \u001b[0;36mpandas._libs.parsers.TextReader._setup_parser_source\u001b[0;34m()\u001b[0m\n",
            "\u001b[0;31mFileNotFoundError\u001b[0m: File b'../input/amazon-fine-food-reviews/Reviews.csv' does not exist"
          ]
        }
      ]
    },
    {
      "metadata": {
        "_uuid": "b1346c4221e5c02b619265d9788e9168086a4a30",
        "id": "Yk4jrKBqyAgS",
        "colab_type": "code",
        "colab": {}
      },
      "cell_type": "code",
      "source": [
        "print(reviews.shape)\n",
        "print(reviews.head())\n",
        "print(reviews.isnull().sum())"
      ],
      "execution_count": 0,
      "outputs": []
    },
    {
      "metadata": {
        "_uuid": "78067bc72a29493f7fd7e7a8fa56fe8d4e552f22",
        "id": "MVUtZiaKyAgW",
        "colab_type": "code",
        "colab": {}
      },
      "cell_type": "code",
      "source": [
        "reviews = reviews.dropna()\n",
        "reviews = reviews.drop(['Id','ProductId','UserId','ProfileName','HelpfulnessNumerator','HelpfulnessDenominator', 'Score','Time'], 1)\n",
        "reviews = reviews.reset_index(drop=True) \n",
        "print(reviews.head())\n",
        "for i in range(5):\n",
        "    print(\"Review #\",i+1)\n",
        "    print(reviews.Summary[i])\n",
        "    print(reviews.Text[i])\n",
        "    print()\n",
        "    "
      ],
      "execution_count": 0,
      "outputs": []
    },
    {
      "metadata": {
        "_uuid": "db0331b9fa896a8bd10d3f2f317779336d63f3f6",
        "id": "0PDQqz4MyAgZ",
        "colab_type": "code",
        "colab": {}
      },
      "cell_type": "code",
      "source": [
        "contractions = {\"ain't\": \"am not\",\n",
        "                \"aren't\": \"are not\",\n",
        "                \"can't\": \"cannot\",\n",
        "                \"can't've\": \"cannot have\",\n",
        "                \"'cause\": \"because\",\n",
        "                \"could've\": \"could have\",\n",
        "                \"couldn't\": \"could not\",\n",
        "                \"couldn't've\": \"could not have\",\n",
        "                \"didn't\": \"did not\",\n",
        "                \"doesn't\": \"does not\",\n",
        "                \"don't\": \"do not\",\n",
        "                \"hadn't\": \"had not\",\n",
        "                \"hadn't've\": \"had not have\",\n",
        "                \"hasn't\": \"has not\",\n",
        "                \"haven't\": \"have not\",\n",
        "                \"he'd\": \"he would\",\n",
        "                \"he'd've\": \"he would have\"}"
      ],
      "execution_count": 0,
      "outputs": []
    },
    {
      "metadata": {
        "_uuid": "26f764fa33ad7f5587361a8735dcae98729a73ac",
        "id": "GZDAbzhtyAge",
        "colab_type": "code",
        "colab": {}
      },
      "cell_type": "code",
      "source": [
        "def clean_text(text, remove_stopwords = True):\n",
        "    # Convert words to lower case\n",
        "    text = text.lower()\n",
        "    if True:\n",
        "        text = text.split()\n",
        "        new_text = []\n",
        "        for word in text:\n",
        "            if word in contractions:\n",
        "                new_text.append(contractions[word])\n",
        "            else:\n",
        "                new_text.append(word)\n",
        "        text = \" \".join(new_text)\n",
        "        text = re.sub(r'https?:\\/\\/.*[\\r\\n]*', '', text, flags=re.MULTILINE)\n",
        "        text = re.sub(r'\\<a href', ' ', text)\n",
        "        text = re.sub(r'</code>&<code>', '', text)\n",
        "        text = re.sub(r'[_\"\\-;%()|+&=*%.,!?:#$@\\[\\]/]', ' ', text)\n",
        "        text = re.sub(r'</code><br /><code>', ' ', text)\n",
        "        text = re.sub(r'\\'', ' ', text)\n",
        "        if remove_stopwords:\n",
        "            text = text.split()\n",
        "            stops = set(stopwords.words(\"english\"))\n",
        "            text = [w for w in text if not w in stops]\n",
        "            text = \" \".join(text)\n",
        "        return text"
      ],
      "execution_count": 0,
      "outputs": []
    },
    {
      "metadata": {
        "_uuid": "414921f6201e0f11526be71e752ff832ffe8aee4",
        "id": "aXLpSemwyAgi",
        "colab_type": "code",
        "colab": {}
      },
      "cell_type": "code",
      "source": [
        "clean_summaries = []\n",
        "for summary in reviews.Summary:\n",
        "    clean_summaries.append(clean_text(summary, remove_stopwords=False))\n",
        "print(\"Summaries are complete.\")\n",
        "clean_texts = []\n",
        "for text in reviews.Text:\n",
        "    clean_texts.append(clean_text(text, remove_stopwords = False))\n",
        "print(\"Texts are complete.\")"
      ],
      "execution_count": 0,
      "outputs": []
    },
    {
      "metadata": {
        "_uuid": "2bdf20304debc5eb52457092c02813cba3e49fdd",
        "id": "JKahSraJyAgm",
        "colab_type": "code",
        "colab": {}
      },
      "cell_type": "code",
      "source": [
        "stories = list()\n",
        "for i, text in enumerate(clean_texts):\n",
        "    stories.append({'story': text, 'highlights': clean_summaries[i]})\n",
        "# save to file\n",
        "dump(stories, open('review_dataset1.pkl', 'wb'))"
      ],
      "execution_count": 0,
      "outputs": []
    },
    {
      "metadata": {
        "_uuid": "caccdd6968f4e9acf6a309f848881ad82abb02de",
        "id": "Hnlg_bQFyAgp",
        "colab_type": "code",
        "colab": {
          "base_uri": "https://localhost:8080/",
          "height": 214
        },
        "outputId": "0fb12ee6-357f-4649-f698-e097eb707318"
      },
      "cell_type": "code",
      "source": [
        "stories = load(open('review_dataset.pkl', 'rb'))\n",
        "print('Loaded Stories %d' % len(stories))\n",
        "print(type(stories))\n",
        "print(stories[2])"
      ],
      "execution_count": 3,
      "outputs": [
        {
          "output_type": "error",
          "ename": "FileNotFoundError",
          "evalue": "ignored",
          "traceback": [
            "\u001b[0;31m---------------------------------------------------------------------------\u001b[0m",
            "\u001b[0;31mFileNotFoundError\u001b[0m                         Traceback (most recent call last)",
            "\u001b[0;32m<ipython-input-3-b90cbdf91336>\u001b[0m in \u001b[0;36m<module>\u001b[0;34m()\u001b[0m\n\u001b[0;32m----> 1\u001b[0;31m \u001b[0mstories\u001b[0m \u001b[0;34m=\u001b[0m \u001b[0mload\u001b[0m\u001b[0;34m(\u001b[0m\u001b[0mopen\u001b[0m\u001b[0;34m(\u001b[0m\u001b[0;34m'review_dataset.pkl'\u001b[0m\u001b[0;34m,\u001b[0m \u001b[0;34m'rb'\u001b[0m\u001b[0;34m)\u001b[0m\u001b[0;34m)\u001b[0m\u001b[0;34m\u001b[0m\u001b[0;34m\u001b[0m\u001b[0m\n\u001b[0m\u001b[1;32m      2\u001b[0m \u001b[0mprint\u001b[0m\u001b[0;34m(\u001b[0m\u001b[0;34m'Loaded Stories %d'\u001b[0m \u001b[0;34m%\u001b[0m \u001b[0mlen\u001b[0m\u001b[0;34m(\u001b[0m\u001b[0mstories\u001b[0m\u001b[0;34m)\u001b[0m\u001b[0;34m)\u001b[0m\u001b[0;34m\u001b[0m\u001b[0;34m\u001b[0m\u001b[0m\n\u001b[1;32m      3\u001b[0m \u001b[0mprint\u001b[0m\u001b[0;34m(\u001b[0m\u001b[0mtype\u001b[0m\u001b[0;34m(\u001b[0m\u001b[0mstories\u001b[0m\u001b[0;34m)\u001b[0m\u001b[0;34m)\u001b[0m\u001b[0;34m\u001b[0m\u001b[0;34m\u001b[0m\u001b[0m\n\u001b[1;32m      4\u001b[0m \u001b[0mprint\u001b[0m\u001b[0;34m(\u001b[0m\u001b[0mstories\u001b[0m\u001b[0;34m[\u001b[0m\u001b[0;36m2\u001b[0m\u001b[0;34m]\u001b[0m\u001b[0;34m)\u001b[0m\u001b[0;34m\u001b[0m\u001b[0;34m\u001b[0m\u001b[0m\n",
            "\u001b[0;31mFileNotFoundError\u001b[0m: [Errno 2] No such file or directory: 'review_dataset.pkl'"
          ]
        }
      ]
    },
    {
      "metadata": {
        "_uuid": "73582ce9a5d32f177ad92225046ddb1f0d65bea0",
        "id": "hCSl1R8zyAgt",
        "colab_type": "code",
        "colab": {}
      },
      "cell_type": "code",
      "source": [
        "batch_size = 64\n",
        "epochs = 100\n",
        "latent_dim = 256\n",
        "num_samples = 10000"
      ],
      "execution_count": 0,
      "outputs": []
    },
    {
      "metadata": {
        "_uuid": "e5446ec6699d41c3c776ec48ff1c95e430ba1a1f",
        "id": "h_ZME79CyAgv",
        "colab_type": "code",
        "colab": {}
      },
      "cell_type": "code",
      "source": [
        "input_texts = []\n",
        "target_texts = []\n",
        "input_characters = set()\n",
        "target_characters = set()\n",
        "for story in stories[:1000]:\n",
        "    input_text = story['story']\n",
        "    target_text = story['highlights']\n",
        "    # We use \"tab\" as the \"start sequence\" character\n",
        "    # for the targets, and \"\\n\" as \"end sequence\" character.\n",
        "    target_text = '\\t' + target_text + '\\n'\n",
        "    input_texts.append(input_text)\n",
        "    target_texts.append(target_text)\n",
        "    for char in input_text:\n",
        "        if char not in input_characters:\n",
        "            input_characters.add(char)\n",
        "    for char in target_text:\n",
        "        if char not in target_characters:\n",
        "            target_characters.add(char)\n",
        "input_characters = sorted(list(input_characters))\n",
        "target_characters = sorted(list(target_characters))\n",
        "num_encoder_tokens = len(input_characters)\n",
        "num_decoder_tokens = len(target_characters)\n",
        "max_encoder_seq_length = max([len(txt) for txt in input_texts])\n",
        "max_decoder_seq_length = max([len(txt) for txt in target_texts])\n",
        "print('Number of samples:', len(input_texts))\n",
        "print('Number of unique input tokens:', num_encoder_tokens)\n",
        "print('Number of unique output tokens:', num_decoder_tokens)\n",
        "print('Max sequence length for inputs:', max_encoder_seq_length)\n",
        "print('Max sequence length for outputs:', max_decoder_seq_length)"
      ],
      "execution_count": 0,
      "outputs": []
    },
    {
      "metadata": {
        "_uuid": "8d1f484667466453bf5152c3613e0c0863e81a14",
        "id": "gS4ehdryyAgy",
        "colab_type": "code",
        "colab": {}
      },
      "cell_type": "code",
      "source": [
        "input_token_index = dict([(char, i) for i, char in enumerate(input_characters)])\n",
        "\n",
        "target_token_index = dict([(char, i) for i, char in enumerate(target_characters)])\n",
        "\n",
        "\n",
        "encoder_input_data = np.zeros((len(input_texts), max_encoder_seq_length, num_encoder_tokens), dtype='float32')\n",
        "\n",
        "decoder_input_data = np.zeros((len(input_texts), max_decoder_seq_length, num_decoder_tokens), dtype='float32')\n",
        "\n",
        "decoder_target_data = np.zeros((len(input_texts), max_decoder_seq_length, num_decoder_tokens), dtype='float32')\n",
        "\n",
        "\n",
        "\n",
        "for i, (input_text, target_text) in enumerate(zip(input_texts, target_texts)):\n",
        "    for t, char in enumerate(input_text):\n",
        "        encoder_input_data[i, t, input_token_index[char]] = 1.\n",
        "        \n",
        "    for t, char in enumerate(target_text):\n",
        "\n",
        "        # decoder_target_data is ahead of decoder_input_data by one timestep\n",
        "        decoder_input_data[i, t, target_token_index[char]] = 1.\n",
        "        if t > 0:\n",
        "            # decoder_target_data will be ahead by one timestep\n",
        "            # and will not include the start character.\n",
        "            decoder_target_data[i, t - 1, target_token_index[char]] = 1."
      ],
      "execution_count": 0,
      "outputs": []
    },
    {
      "metadata": {
        "_uuid": "ca2a387507631fcbda21570948fc77d10884c773",
        "id": "eHxCy4-syAg2",
        "colab_type": "code",
        "colab": {}
      },
      "cell_type": "code",
      "source": [
        "# Define an input sequence and process it.\n",
        "\n",
        "encoder_inputs = Input(shape=(None, num_encoder_tokens))\n",
        "\n",
        "encoder = LSTM(latent_dim, return_state=True)\n",
        "\n",
        "encoder_outputs, state_h, state_c = encoder(encoder_inputs)\n",
        "\n",
        "# We discard `encoder_outputs` and only keep the states.\n",
        "\n",
        "encoder_states = [state_h, state_c]\n",
        "\n",
        "\n",
        "\n",
        "# Set up the decoder, using `encoder_states` as initial state.\n",
        "\n",
        "decoder_inputs = Input(shape=(None, num_decoder_tokens))\n",
        "\n",
        "# We set up our decoder to return full output sequences,\n",
        "\n",
        "# and to return internal states as well. We don't use the\n",
        "\n",
        "# return states in the training model, but we will use them in inference.\n",
        "\n",
        "decoder_lstm = LSTM(latent_dim, return_sequences=True, return_state=True)\n",
        "\n",
        "decoder_outputs, _, _ = decoder_lstm(decoder_inputs,\n",
        "\n",
        "                                     initial_state=encoder_states)\n",
        "\n",
        "decoder_dense = Dense(num_decoder_tokens, activation='softmax')\n",
        "\n",
        "decoder_outputs = decoder_dense(decoder_outputs)\n",
        "\n",
        "\n",
        "\n",
        "# Define the model that will turn\n",
        "\n",
        "# `encoder_input_data` & `decoder_input_data` into `decoder_target_data`\n",
        "\n",
        "model = Model([encoder_inputs, decoder_inputs], decoder_outputs)\n",
        "\n",
        "\n",
        "\n",
        "# Run training\n",
        "\n",
        "model.compile(optimizer='rmsprop', loss='categorical_crossentropy', metrics = ['accuracy'])\n",
        "print(model.summary())\n",
        "\n",
        "model.fit([encoder_input_data, decoder_input_data], decoder_target_data,\n",
        "\n",
        "          batch_size=batch_size,\n",
        "\n",
        "          epochs=epochs,\n",
        "\n",
        "          validation_split=0.2)\n",
        "\n",
        "# Save model\n",
        "\n",
        "model.save('s2s.h5')"
      ],
      "execution_count": 0,
      "outputs": []
    },
    {
      "metadata": {
        "_uuid": "46585c7317f64250f9c1846f4d04e2c4907422ee",
        "id": "wPeKYuU7yAg5",
        "colab_type": "code",
        "colab": {}
      },
      "cell_type": "code",
      "source": [
        "def generic_Model(n_input, n_output, n_units):\n",
        "    # define training encoder\n",
        "    encoder_inputs = Input(shape=(None, n_input))\n",
        "    encoder = LSTM(n_units, return_state=True)\n",
        "    encoder_outputs, state_h, state_c = encoder(encoder_inputs)\n",
        "    encoder_states = [state_h, state_c]\n",
        "    # define training decoder\n",
        "    decoder_inputs = Input(shape=(None, n_output))\n",
        "    decoder_lstm = LSTM(n_units, return_sequences=True, return_state=True)\n",
        "    decoder_outputs, _, _ = decoder_lstm(decoder_inputs, initial_state=encoder_states)\n",
        "    decoder_dense = Dense(n_output, activation='softmax')\n",
        "    \n",
        "    decoder_outputs = decoder_dense(decoder_outputs)\n",
        "    model = Model([encoder_inputs, decoder_inputs], decoder_outputs)\n",
        "    # define inference encoder\n",
        "    encoder_model = Model(encoder_inputs, encoder_states)\n",
        "    # define inference decoder\n",
        "    decoder_state_input_h = Input(shape=(n_units,))\n",
        "    decoder_state_input_c = Input(shape=(n_units,))\n",
        "    decoder_states_inputs = [decoder_state_input_h, decoder_state_input_c]\n",
        "    decoder_outputs, state_h, state_c = decoder_lstm(decoder_inputs,  initial_state=decoder_states_inputs)\n",
        "    decoder_states = [state_h, state_c]\n",
        "    decoder_outputs = decoder_dense(decoder_outputs)\n",
        "    decoder_model = Model([decoder_inputs] + decoder_states_inputs, [decoder_outputs] + decoder_states)\n",
        "    # return all models\n",
        "    return model, encoder_model, decoder_model\n"
      ],
      "execution_count": 0,
      "outputs": []
    },
    {
      "metadata": {
        "_uuid": "ea1e80648de3d72954da93f934d9f2210f7f4738",
        "id": "oG4gq7YhyAg9",
        "colab_type": "code",
        "colab": {}
      },
      "cell_type": "code",
      "source": [
        "training_model, encoder_model, decoder_model = generic_Model(max_encoder_seq_length, max_decoder_seq_length, 128)\n",
        "training_model.summary()"
      ],
      "execution_count": 0,
      "outputs": []
    },
    {
      "metadata": {
        "_uuid": "234e7a92e06db16dee5c08bb7699ec8dc03894d7",
        "id": "TM3XAxcWyAhB",
        "colab_type": "code",
        "colab": {}
      },
      "cell_type": "code",
      "source": [
        "training_model.compile(optimizer='rmsprop', loss='categorical_crossentropy')\n",
        "training_model.fit([input_characters, target_characters], target_characters,\n",
        "batch_size=batch_size,\n",
        "epochs=epochs,\n",
        "validation_split=0.2)"
      ],
      "execution_count": 0,
      "outputs": []
    },
    {
      "metadata": {
        "_uuid": "aa670a6d30f64756f81c558931d58084044bc307",
        "id": "T9tF0fOyyAhF",
        "colab_type": "code",
        "colab": {}
      },
      "cell_type": "code",
      "source": [
        ""
      ],
      "execution_count": 0,
      "outputs": []
    },
    {
      "metadata": {
        "_uuid": "0f82d087944a99d6e2f2eb7832a3e98ce143cbb1",
        "id": "0RRdR9GQyAhH",
        "colab_type": "code",
        "colab": {}
      },
      "cell_type": "code",
      "source": [
        "word_to_index, index_to_word, word_to_vec_map = read_glove_vecs('dataset/Glove Embeddings/glove.6B.50d.txt')"
      ],
      "execution_count": 0,
      "outputs": []
    },
    {
      "metadata": {
        "_uuid": "523e40ced0dfa29c4ae66de97fb2a07a83296f16",
        "scrolled": true,
        "id": "MJxcKVOsyAhK",
        "colab_type": "code",
        "colab": {}
      },
      "cell_type": "code",
      "source": [
        "print(len(word_to_vec_map))\n",
        "print(word_to_index[\"didn't\"])\n",
        "print(word_to_vec_map[\"strife-torn\"])"
      ],
      "execution_count": 0,
      "outputs": []
    },
    {
      "metadata": {
        "_uuid": "b85eee801058d40f9b1967632b6e75b4ad15ef6d",
        "id": "SOrI0i3yyAhN",
        "colab_type": "code",
        "colab": {}
      },
      "cell_type": "code",
      "source": [
        "word = \"cucumber\"\n",
        "index = 289846\n",
        "print(len(word_to_vec_map[word]))\n",
        "print(\"the index of\", word, \"in the vocabulary is\", word_to_index[word])\n",
        "print(\"the\", str(index) + \"th word in the vocabulary is\", index_to_word[index])\n",
        "print(len(word_to_vec_map))"
      ],
      "execution_count": 0,
      "outputs": []
    },
    {
      "metadata": {
        "_uuid": "36fc694f6d61a67426121d05d5d7ecbe5f6576e8",
        "id": "GzGSR1g5yAhQ",
        "colab_type": "text"
      },
      "cell_type": "markdown",
      "source": [
        "**Exercise**: Implement `sentence_to_avg()`. This function performs two steps described as follows:\n",
        "1. Convert every sentence to lower-case, then split the sentence into a list of words.\n",
        "2. For each word in the sentence, access its GloVe representation. Then, average all these values."
      ]
    },
    {
      "metadata": {
        "_uuid": "370e34b8fd3664c187fdf1f24bb718216ef3eb58",
        "id": "3LHTwiuiyAhQ",
        "colab_type": "code",
        "colab": {}
      },
      "cell_type": "code",
      "source": [
        "# GRADED FUNCTION: sentence_to_avg\n",
        "\n",
        "def sentence_to_avg(sentence, word_to_vec_map):\n",
        "    \"\"\"\n",
        "    Converts a sentence (string) into a list of words (strings). Extracts the GloVe representation of each word\n",
        "    and averages its value into a single vector encoding the meaning of the sentence.\n",
        "    \n",
        "    Arguments:\n",
        "    sentence -- string, one training example from X\n",
        "    word_to_vec_map -- dictionary mapping every word in a vocabulary into its 50-dimensional vector representation\n",
        "    \n",
        "    Returns:\n",
        "    avg -- average vector encoding information about the sentence, numpy-array of shape (50,)\n",
        "    \"\"\"\n",
        "    \n",
        "    ### START CODE HERE ###\n",
        "    # Step 1: Split sentence into list of lower case words (≈ 1 line)\n",
        "    words = [i.lower() for i in sentence.split()]\n",
        "    \n",
        "    # Initialize the average word vector, should have the same shape as your word vectors.\n",
        "    avg = np.zeros((len(word_to_vec_map[\"a\"]),))\n",
        "    \n",
        "    # Step 2: average the word vectors. You can loop over the words in the list \"words\".\n",
        "    for w in words:\n",
        "        try:\n",
        "            avg += word_to_vec_map[w]\n",
        "        except KeyError:\n",
        "            print(w)\n",
        "            continue\n",
        "        \n",
        "    avg = avg / len(words)\n",
        "    \n",
        "    ### END CODE HERE ###\n",
        "    \n",
        "    return avg"
      ],
      "execution_count": 0,
      "outputs": []
    },
    {
      "metadata": {
        "_uuid": "28d98594c056c9c0e584f53f0eeaece1d1fdeb3d",
        "id": "GVwHavVOyAhU",
        "colab_type": "code",
        "colab": {}
      },
      "cell_type": "code",
      "source": [
        "avg = sentence_to_avg(\"at least two people were killed in a suspected bomb attack on a passenger bus in the strife-torn southern philippines on monday , the military said .\\n\", word_to_vec_map)\n",
        "print(\"avg = \", avg)"
      ],
      "execution_count": 0,
      "outputs": []
    },
    {
      "metadata": {
        "_uuid": "fd9716098a859c18687a3761bcc4401916ad81be",
        "id": "YyYw59xxyAhW",
        "colab_type": "code",
        "colab": {}
      },
      "cell_type": "code",
      "source": [
        "def preprocess_data(X):\n",
        "    from tqdm import tqdm\n",
        "    \n",
        "    m = len(X)\n",
        "    str_check = [\",\", \".\", '\"', \"'\", \"(\", \")\", \"$\", \"mph\", \"-\", \"_\"]\n",
        "    str_remove = [\"-lrb-\", \"-rrb-\"]\n",
        "    \n",
        "    for i in tqdm(range(m)):\n",
        "        sentence_words = [w for w in X[i].split()]\n",
        "        j = 0\n",
        "        new_string = \"\"\n",
        "        if(i == 0):\n",
        "            print(X[i])\n",
        "        \n",
        "        for w in sentence_words:\n",
        "            try:\n",
        "               _ = word_to_index[w]\n",
        "            except KeyError:\n",
        "                for stri_r in str_remove:\n",
        "                    if(stri_r in w):\n",
        "                        #print(stri_r)\n",
        "                        w = w.replace(stri_r,\" \")\n",
        "                for stri in str_check:\n",
        "                    if(stri in w):\n",
        "                        idx = w.index(stri)\n",
        "                        if(w[idx:idx+2] == \"'s\"):\n",
        "                            stri = \"'s\"\n",
        "                            idx = w.index(stri)\n",
        "                            a = w[:idx]\n",
        "                            b = w[idx + 2:]\n",
        "                            w = a + \" \" + stri + \" \" + b\n",
        "                            continue\n",
        "                        elif(w[idx:idx+3] == \"mph\"):\n",
        "                            stri = \"mph\"\n",
        "                            idx = w.index(stri)\n",
        "                            if(w[idx - 1] == \" \"):\n",
        "                                a = \"\"\n",
        "                            else:\n",
        "                                a = w[:idx]\n",
        "                            b = w[idx + 3:]\n",
        "                            w = a + \" \" + stri + \" \" + b\n",
        "                            continue\n",
        "                        if(w[idx - 1] == \" \"):\n",
        "                            a = \"\"\n",
        "                        else:\n",
        "                            a = w[:idx]\n",
        "\n",
        "                        b = w[idx + 1:]\n",
        "                        w = a + \" \" + stri + \" \" + b\n",
        "            \n",
        "            new_string += w + \" \"\n",
        "        X[i] = new_string\n",
        "        if(i == 0):\n",
        "            print(X[i])\n",
        "    return X"
      ],
      "execution_count": 0,
      "outputs": []
    },
    {
      "metadata": {
        "_uuid": "b0d1502e9d10aa5eefb9fb45c5fef9578c4f0364",
        "id": "OKBmqfA0yAhZ",
        "colab_type": "code",
        "colab": {}
      },
      "cell_type": "code",
      "source": [
        "# GRADED FUNCTION: sentences_to_indices\n",
        "\n",
        "def sentences_to_indices(X, word_to_index, max_len):\n",
        "    from tqdm import tqdm\n",
        "    \"\"\"\n",
        "    Converts an array of sentences (strings) into an array of indices corresponding to words in the sentences.\n",
        "    The output shape should be such that it can be given to `Embedding()` (described in Figure 4). \n",
        "    \n",
        "    Arguments:\n",
        "    X -- array of sentences (strings), of shape (m, 1)\n",
        "    word_to_index -- a dictionary containing the each word mapped to its index\n",
        "    max_len -- maximum number of words in a sentence. You can assume every sentence in X is no longer than this. \n",
        "    \n",
        "    Returns:\n",
        "    X_indices -- array of indices corresponding to words in the sentences from X, of shape (m, max_len)\n",
        "    \"\"\"\n",
        "    \n",
        "    m = len(X)                                # number of training examples\n",
        "    \n",
        "    ### START CODE HERE ###\n",
        "    # Initialize X_indices as a numpy matrix of zeros and the correct shape (≈ 1 line)\n",
        "    X_indices = np.zeros((m, max_len))\n",
        "    \n",
        "    for i in tqdm(range(m)):                               # loop over training examples\n",
        "        \n",
        "        # Convert the ith training sentence in lower case and split is into words. You should get a list of words.\n",
        "        sentence_words = [w.lower() for w in X[i].split()]\n",
        "        \n",
        "        # Initialize j to 0\n",
        "        j = 0\n",
        "        \n",
        "        # Loop over the words of sentence_words\n",
        "        for w in sentence_words:\n",
        "            # Set the (i,j)th entry of X_indices to the index of the correct word.\n",
        "            try:\n",
        "                #if(w == \"<unk>\"):\n",
        "                    #X_indices[i, j] = -1\n",
        "                #else:\n",
        "                    #X_indices[i, j] = word_to_index[w]\n",
        "                X_indices[i, j] = word_to_index[w]\n",
        "            except Exception as e:\n",
        "                #print(e)\n",
        "                pass\n",
        "            # Increment j to j + 1\n",
        "            j += 1\n",
        "            \n",
        "    ### END CODE HERE ###\n",
        "    \n",
        "    return X_indices"
      ],
      "execution_count": 0,
      "outputs": []
    },
    {
      "metadata": {
        "_uuid": "6c5e925bca627dc0f6008eeb9cb1cf19672f596e",
        "scrolled": false,
        "id": "YphqhYaPyAhc",
        "colab_type": "code",
        "colab": {}
      },
      "cell_type": "code",
      "source": [
        "X = open(\"dataset/sumdata/train/train.article.10000.txt\").readlines()[:100]\n",
        "X = preprocess_data(X)\n",
        "print(len(X))\n",
        "length = [len(x.split()) for x in X]\n",
        "maxLen = max(length)\n",
        "print(maxLen)\n",
        "X1 = sentences_to_indices(X, word_to_index, maxLen)\n",
        "print(\"X[0] =\", X[9])\n",
        "print(\"X1_indices[0] =\", X1[9])\n",
        "\n",
        "print(\"X[0] =\", X[length.index(max(length))])\n",
        "print(\"X1_indices[0] =\", X1[length.index(max(length))])\n",
        "\n",
        "\n",
        "Y = open(\"dataset/sumdata/train/train.title.10000.txt\").readlines()[:100]\n",
        "Y = preprocess_data(Y)\n",
        "print(len(Y))\n",
        "length_Y = [len(y.split()) for y in Y]\n",
        "maxLen_Y = max(length_Y)\n",
        "print(maxLen_Y)\n",
        "Y1 = sentences_to_indices(Y, word_to_index, maxLen_Y)\n",
        "print(\"Y[0] =\", Y[0])\n",
        "print(\"Y1_indices[0] =\", Y1[0])\n",
        "print(\"Y[0] =\", Y[length_Y.index(max(length_Y))])\n",
        "print(\"Y1_indices[0] =\", Y1[length_Y.index(max(length_Y))])"
      ],
      "execution_count": 0,
      "outputs": []
    },
    {
      "metadata": {
        "_uuid": "ae2f7b38b5174f5297b18575ceb771b4207bf9e5",
        "id": "dUs5A1gMyAhg",
        "colab_type": "code",
        "colab": {}
      },
      "cell_type": "code",
      "source": [
        "print(index_to_word[1])"
      ],
      "execution_count": 0,
      "outputs": []
    },
    {
      "metadata": {
        "_uuid": "5a82a5bfbe6cbc2fea60ff56a81c85a75f87f7e8",
        "id": "U5bZmY-TyAhj",
        "colab_type": "code",
        "colab": {}
      },
      "cell_type": "code",
      "source": [
        "def convert_to_one_hot(X, word_to_index):\n",
        "    \n",
        "    m = X.shape[0]\n",
        "    dim = X.shape[1]\n",
        "    print(type(X))\n",
        "    length = len(word_to_index) + 1\n",
        "    print(length)\n",
        "    \n",
        "    Z = np.zeros((m, dim, length + 1))\n",
        "    \n",
        "    \n",
        "    for i in tqdm(range(m)):\n",
        "        for j in range(dim):\n",
        "            if(j > 0):\n",
        "                if(X[i,j] == -1):\n",
        "                    Z[i, j, length] = 1\n",
        "                else:\n",
        "                    idx = X[i,j]\n",
        "                    Z[i, j - 1, int(idx)] = 1\n",
        "                \n",
        "    return Z"
      ],
      "execution_count": 0,
      "outputs": []
    },
    {
      "metadata": {
        "_uuid": "b62099dd7797b287e190732711c251eb77e3e972",
        "scrolled": false,
        "id": "quX8j1N2yAhm",
        "colab_type": "code",
        "colab": {}
      },
      "cell_type": "code",
      "source": [
        "decoder_target_data = convert_to_one_hot(Y1, word_to_index)\n",
        "decoder_target_data[0]"
      ],
      "execution_count": 0,
      "outputs": []
    },
    {
      "metadata": {
        "_uuid": "0689fd7ea82293bae5c9286d7b72ad275265b4d4",
        "id": "Yj8WPekuyAhp",
        "colab_type": "code",
        "colab": {}
      },
      "cell_type": "code",
      "source": [
        ""
      ],
      "execution_count": 0,
      "outputs": []
    },
    {
      "metadata": {
        "_uuid": "eadb80dec6592ce803d45afb40e5d12e78f83255",
        "scrolled": false,
        "id": "spJ5zgStyAhs",
        "colab_type": "code",
        "colab": {}
      },
      "cell_type": "code",
      "source": [
        "X2 = open(\"dataset/DUC/duc2002/data/test/summaries/Text.txt\").readlines()\n",
        "preprocess_data(X2)\n",
        "X3 = sentences_to_indices(X2, word_to_index, max_len = 1500)\n",
        "print(\"X2[0] =\", X2[1])\n",
        "print(\"X3_indices[0] =\", X3[1])"
      ],
      "execution_count": 0,
      "outputs": []
    },
    {
      "metadata": {
        "_uuid": "fe401b4d9105962786b170ef10d274c9b6ddd667",
        "id": "Z2KE4knwyAhv",
        "colab_type": "code",
        "colab": {}
      },
      "cell_type": "code",
      "source": [
        "print(index_to_word[8])\n",
        "print(word_to_index[\"#\"])"
      ],
      "execution_count": 0,
      "outputs": []
    },
    {
      "metadata": {
        "_uuid": "27d23f789b586bf6c87e7a38a2eac968a48eb4ed",
        "id": "JNkRpsICyAhy",
        "colab_type": "code",
        "colab": {}
      },
      "cell_type": "code",
      "source": [
        "# GRADED FUNCTION: pretrained_embedding_layer\n",
        "\n",
        "def pretrained_embedding_layer(word_to_vec_map, word_to_index):\n",
        "    \"\"\"\n",
        "    Creates a Keras Embedding() layer and loads in pre-trained GloVe 50-dimensional vectors.\n",
        "    \n",
        "    Arguments:\n",
        "    word_to_vec_map -- dictionary mapping words to their GloVe vector representation.\n",
        "    word_to_index -- dictionary mapping from words to their indices in the vocabulary (400,001 words)\n",
        "\n",
        "    Returns:\n",
        "    embedding_layer -- pretrained layer Keras instance\n",
        "    \"\"\"\n",
        "    \n",
        "    vocab_len = len(word_to_index) + 1                  # adding 1 to fit Keras embedding (requirement)\n",
        "    emb_dim = word_to_vec_map[\"cucumber\"].shape[0]      # define dimensionality of your GloVe word vectors (= 50)\n",
        "    \n",
        "    ### START CODE HERE ###\n",
        "    # Initialize the embedding matrix as a numpy array of zeros of shape (vocab_len, dimensions of word vectors = emb_dim)\n",
        "    emb_matrix = np.zeros((vocab_len, emb_dim))\n",
        "    \n",
        "    # Set each row \"index\" of the embedding matrix to be the word vector representation of the \"index\"th word of the vocabulary\n",
        "    for word, index in word_to_index.items():\n",
        "        emb_matrix[index, :] = word_to_vec_map[word]\n",
        "\n",
        "    # Define Keras embedding layer with the correct output/input sizes, make it trainable. Use Embedding(...). Make sure to set trainable=False. \n",
        "    embedding_layer = Embedding(vocab_len, emb_dim, trainable = True)\n",
        "    ### END CODE HERE ###\n",
        "\n",
        "    # Build the embedding layer, it is required before setting the weights of the embedding layer. Do not modify the \"None\".\n",
        "    embedding_layer.build((None,))\n",
        "    \n",
        "    # Set the weights of the embedding layer to the embedding matrix. Your layer is now pretrained.\n",
        "    embedding_layer.set_weights([emb_matrix])\n",
        "    \n",
        "    return embedding_layer"
      ],
      "execution_count": 0,
      "outputs": []
    },
    {
      "metadata": {
        "_uuid": "80e0aa982cf969d29f8a21193e208eb02408da93",
        "id": "fmvcVDNkyAh1",
        "colab_type": "code",
        "colab": {}
      },
      "cell_type": "code",
      "source": [
        "embedding_layer = pretrained_embedding_layer(word_to_vec_map, word_to_index)\n",
        "print(\"weights[0][1][3] =\", embedding_layer.get_weights()[0][1][3])"
      ],
      "execution_count": 0,
      "outputs": []
    },
    {
      "metadata": {
        "_uuid": "f9059859daa58dddf01024342d95f0a77f3e26e1",
        "id": "yCDPqj83yAh3",
        "colab_type": "code",
        "colab": {}
      },
      "cell_type": "code",
      "source": [
        "def Model_Text(encoder_input_shape, word_to_vec_map, word_to_index, decoder_input_shape):\n",
        "    \n",
        "    vocab_len = len(word_to_index) + 1                  # adding 1 to fit Keras embedding (requirement)\n",
        "    emb_dim = word_to_vec_map[\"cucumber\"].shape[0]      # define dimensionality of GloVe word vectors (= 50)\n",
        "    \n",
        "    sentence_indices = Input(encoder_input_shape, dtype='int32')\n",
        "    \n",
        "    embedding_layer = pretrained_embedding_layer(word_to_vec_map, word_to_index)\n",
        "    \n",
        "    embeddings = embedding_layer(sentence_indices) \n",
        "    \n",
        "    X, state_h, state_c = LSTM(emb_dim, return_state=True)(embeddings)\n",
        "    \n",
        "    encoder_states = [state_h, state_c]\n",
        "    \n",
        "    \n",
        "    #Set up the decoder, using `encoder_states` as initial state.\n",
        "\n",
        "    decoder_inputs = Input(decoder_input_shape)\n",
        "    \n",
        "    \n",
        "    embedding_layer = pretrained_embedding_layer(word_to_vec_map, word_to_index)\n",
        "    embeddings = embedding_layer(decoder_inputs) \n",
        "    \n",
        "    x = LSTM(emb_dim, return_sequences = True)(embeddings, initial_state=encoder_states)\n",
        "    \n",
        "    decoder_outputs = Dense(vocab_len + 1, activation='softmax')(x)\n",
        "\n",
        "    \n",
        "    model = Model(inputs=[sentence_indices, decoder_inputs], outputs= decoder_outputs)\n",
        "    \n",
        "    return model"
      ],
      "execution_count": 0,
      "outputs": []
    },
    {
      "metadata": {
        "_uuid": "028c7323e0aec568b1a613e7750a9f8c6604a676",
        "id": "Lj6VE4E_yAh7",
        "colab_type": "code",
        "colab": {}
      },
      "cell_type": "code",
      "source": [
        "concatenator = Concatenate(axis = 1)"
      ],
      "execution_count": 0,
      "outputs": []
    },
    {
      "metadata": {
        "_uuid": "ec781ef1d05b557fe5a0d6cdb2700c24edd5a552",
        "id": "EsxG26miyAh-",
        "colab_type": "code",
        "colab": {}
      },
      "cell_type": "code",
      "source": [
        "def Model_Text3(encoder_input_shape, word_to_vec_map, word_to_index, decoder_input_shape):\n",
        "    \n",
        "    vocab_len = len(word_to_index) + 1                  # adding 1 to fit Keras embedding (requirement)\n",
        "    emb_dim = word_to_vec_map[\"cucumber\"].shape[0]      # define dimensionality of GloVe word vectors (= 50)\n",
        "    \n",
        "    sentence_indices = Input(encoder_input_shape, dtype='int32')\n",
        "    \n",
        "    embedding_layer = pretrained_embedding_layer(word_to_vec_map, word_to_index)\n",
        "    \n",
        "    embeddings = embedding_layer(sentence_indices) \n",
        "    \n",
        "    X, _, _ = LSTM(emb_dim, return_state=True)(embeddings)\n",
        "    \n",
        "    \n",
        "    \n",
        "    #Set up the decoder, using `encoder_states` as initial state.\n",
        "    print(decoder_input_shape)\n",
        "    print(encoder_input_shape)\n",
        "    decoder_inputs = Input(decoder_input_shape, dtype='int32')\n",
        "    \n",
        "    \n",
        "    embedding_layer = pretrained_embedding_layer(word_to_vec_map, word_to_index)\n",
        "    \n",
        "    embeddings = embedding_layer(decoder_inputs)\n",
        "    \n",
        "    x, _, _ = LSTM(emb_dim, return_state=True)(embeddings)\n",
        "    \n",
        "    \n",
        "    decoder1 = concatenator([X, x])\n",
        "    \n",
        "    decoder_outputs = Dense(vocab_len + 1, activation='softmax')(decoder1)\n",
        "\n",
        "    \n",
        "    model = Model(inputs=[sentence_indices, decoder_inputs], outputs= decoder_outputs)\n",
        "    \n",
        "    return model"
      ],
      "execution_count": 0,
      "outputs": []
    },
    {
      "metadata": {
        "_uuid": "55b6b67f02384d0de0d1bf1c7152975aed9073ce",
        "id": "E1PM3r0iyAiE",
        "colab_type": "code",
        "colab": {}
      },
      "cell_type": "code",
      "source": [
        "def Model_Text2(encoder_input_shape, word_to_vec_map, word_to_index, decoder_input_shape):\n",
        "    \n",
        "    vocab_len = len(word_to_index) + 1                  # adding 1 to fit Keras embedding (requirement)\n",
        "    emb_dim = word_to_vec_map[\"cucumber\"].shape[0]      # define dimensionality of GloVe word vectors (= 50)\n",
        "    \n",
        "    sentence_indices = Input(encoder_input_shape, dtype='int32')\n",
        "    \n",
        "    embedding_layer = pretrained_embedding_layer(word_to_vec_map, word_to_index)\n",
        "    \n",
        "    embeddings = embedding_layer(sentence_indices) \n",
        "    \n",
        "    X, _, _ = LSTM(emb_dim, return_state=True)(embeddings)\n",
        "    \n",
        "    \n",
        "    #x = LSTM(emb_dim)(X)\n",
        "    \n",
        "    decoder_outputs = Dense(vocab_len + 1, activation='softmax')(X)\n",
        "\n",
        "    \n",
        "    model = Model(inputs=sentence_indices, outputs= decoder_outputs)\n",
        "    \n",
        "    return model"
      ],
      "execution_count": 0,
      "outputs": []
    },
    {
      "metadata": {
        "_uuid": "1ef6d5abc51408698e05f2d65fb77e619c4d0aa2",
        "scrolled": false,
        "id": "75cZULBiyAiG",
        "colab_type": "code",
        "colab": {}
      },
      "cell_type": "code",
      "source": [
        "model = Model_Text((maxLen,), word_to_vec_map, word_to_index, (maxLen_Y,))\n",
        "model.summary()"
      ],
      "execution_count": 0,
      "outputs": []
    },
    {
      "metadata": {
        "_uuid": "5e868e819218f82da6c032d9e22985d87dbf8f1c",
        "id": "Tab6Ph_ayAiJ",
        "colab_type": "code",
        "colab": {}
      },
      "cell_type": "code",
      "source": [
        "# Compile & run training\n",
        "model.compile(optimizer='rmsprop', loss='categorical_crossentropy', metrics = ['accuracy'])"
      ],
      "execution_count": 0,
      "outputs": []
    },
    {
      "metadata": {
        "_uuid": "aabf7a6de1e2a003de21b7c076479c16e1c9c43c",
        "id": "WrxLMXJ8yAiO",
        "colab_type": "code",
        "colab": {}
      },
      "cell_type": "code",
      "source": [
        "model.fit([X1, Y1], decoder_target_data, batch_size = 6, epochs = 5, shuffle = True)"
      ],
      "execution_count": 0,
      "outputs": []
    },
    {
      "metadata": {
        "_uuid": "c718df170fa508d6e5649cc4de3b7c728e5bad1e",
        "id": "c-FkzzOZyAiR",
        "colab_type": "code",
        "colab": {}
      },
      "cell_type": "code",
      "source": [
        "decoder_target_data[0]"
      ],
      "execution_count": 0,
      "outputs": []
    },
    {
      "metadata": {
        "_uuid": "2895c7fbf13b49003db453dcea6d88df70ed5c90",
        "id": "txb-JNRgyAiU",
        "colab_type": "code",
        "colab": {}
      },
      "cell_type": "code",
      "source": [
        "loss, acc = model.evaluate([X1 , Y1], decoder_target_data[:,1,:])\n",
        "print(\"Accuracy\" + str(acc))"
      ],
      "execution_count": 0,
      "outputs": []
    },
    {
      "metadata": {
        "_uuid": "a73d4970b7c0b2a43da9887a763603e1d287aa0e",
        "id": "Xq-xH0tIyAiW",
        "colab_type": "code",
        "colab": {}
      },
      "cell_type": "code",
      "source": [
        "acc"
      ],
      "execution_count": 0,
      "outputs": []
    },
    {
      "metadata": {
        "_uuid": "84e550cfe4bbb00ebe457f06e9475b4153b333da",
        "id": "HQDACn6syAiZ",
        "colab_type": "code",
        "colab": {}
      },
      "cell_type": "code",
      "source": [
        "idx = model.predict([X1[:10,:], Y1[:10,:]], verbose = 0)\n",
        "print(idx.shape)\n",
        "print(idx)\n",
        "id1 = {}\n",
        "for i in range(idx.shape[0]):\n",
        "    id1[str(i)] = []\n",
        "    for j in range(idx.shape[1]):\n",
        "        try:\n",
        "            id1[str(i)].append(index_to_word[np.argmax(idx[i,j,:])])\n",
        "        except Exception as e:\n",
        "            id1[str(i)].append(index_to_word[np.argmax(idx[i,j,:]) + 1])\n",
        "            pass\n",
        "print(id1)"
      ],
      "execution_count": 0,
      "outputs": []
    },
    {
      "metadata": {
        "_uuid": "4c1aa4eaf7e7fc182a7a9cf72cf76712a81026fe",
        "id": "GPQn7upsyAic",
        "colab_type": "code",
        "colab": {}
      },
      "cell_type": "code",
      "source": [
        "idx = model.predict([X1, Y1], verbose = 0)"
      ],
      "execution_count": 0,
      "outputs": []
    },
    {
      "metadata": {
        "_uuid": "60360c9d31c4fc6d386d0890e09d58d1abcceb47",
        "id": "ffYqGr5pyAih",
        "colab_type": "code",
        "colab": {}
      },
      "cell_type": "code",
      "source": [
        "print(idx.shape)\n",
        "id = []\n",
        "for i in range(idx.shape[0]):\n",
        "    id.append(index_to_word[np.argmax(idx[i,:])])\n"
      ],
      "execution_count": 0,
      "outputs": []
    },
    {
      "metadata": {
        "_uuid": "937a3d33385299e14f9a5408ed8e5a1d4b6c5d8b",
        "id": "NWKbMbQ3yAik",
        "colab_type": "code",
        "colab": {}
      },
      "cell_type": "code",
      "source": [
        "id"
      ],
      "execution_count": 0,
      "outputs": []
    },
    {
      "metadata": {
        "_uuid": "8c91b0b9469281cc380b296a7d8e9543182127af",
        "id": "GdUitkFZyAin",
        "colab_type": "code",
        "colab": {}
      },
      "cell_type": "code",
      "source": [
        ""
      ],
      "execution_count": 0,
      "outputs": []
    }
  ]
}